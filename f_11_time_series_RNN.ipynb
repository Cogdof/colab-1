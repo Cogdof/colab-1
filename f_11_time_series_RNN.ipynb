{
  "nbformat": 4,
  "nbformat_minor": 0,
  "metadata": {
    "colab": {
      "name": "f-11-time-series-RNN",
      "version": "0.3.2",
      "provenance": [],
      "collapsed_sections": [],
      "include_colab_link": true
    },
    "kernelspec": {
      "name": "python3",
      "display_name": "Python 3"
    },
    "accelerator": "GPU"
  },
  "cells": [
    {
      "cell_type": "markdown",
      "metadata": {
        "id": "view-in-github",
        "colab_type": "text"
      },
      "source": [
        "<a href=\"https://colab.research.google.com/github/StillWork/colab-1/blob/master/f_11_time_series_RNN.ipynb\" target=\"_parent\"><img src=\"https://colab.research.google.com/assets/colab-badge.svg\" alt=\"Open In Colab\"/></a>"
      ]
    },
    {
      "metadata": {
        "id": "oOw3qkF-iHpH",
        "colab_type": "code",
        "outputId": "338ad665-0526-46d4-a8b3-dac4f6cf29c8",
        "colab": {
          "base_uri": "https://localhost:8080/",
          "height": 50
        }
      },
      "cell_type": "code",
      "source": [
        "import keras\n",
        "keras.__version__"
      ],
      "execution_count": 0,
      "outputs": [
        {
          "output_type": "stream",
          "text": [
            "Using TensorFlow backend.\n"
          ],
          "name": "stderr"
        },
        {
          "output_type": "execute_result",
          "data": {
            "text/plain": [
              "'2.2.4'"
            ]
          },
          "metadata": {
            "tags": []
          },
          "execution_count": 2
        }
      ]
    },
    {
      "metadata": {
        "id": "snxLLdjAiHpP",
        "colab_type": "text"
      },
      "cell_type": "markdown",
      "source": [
        "# 시계열 분석\n",
        "- 온도, 습도, 기압, 풍향 등 14개 데이터 사용, 10분마다 기록\n",
        "- 며칠간의 데이터를 입력하고 24시간 이후의 기온 예측\n",
        "\n",
        "## 드롭아웃, 스태킹, 양방향 순환신경망 사용\n",
        "- 순환 드롭아웃: 과대적합을 방지\n",
        "- 스태킹 순환 층: 네트워크의 표현능력을 향상(계산량은 늘어난다)\n",
        "- 양방향 순환 층: 서로 다른 방향으로 데이터를 입력하여 정확도를 높이고 기억을 오랫동안 유지  \n",
        "\n",
        "## 데이터\n",
        "- 독일 Jena시 막스 프랑크 생물지구화학연구소에서 지상 관측소에서 측정한 데이터 \n",
        "- 2009~2016년 데이터 사용"
      ]
    },
    {
      "metadata": {
        "id": "KxWMgdVviHpR",
        "colab_type": "text"
      },
      "cell_type": "markdown",
      "source": [
        "Let's take a look at the data:"
      ]
    },
    {
      "metadata": {
        "id": "l83oJpPakC43",
        "colab_type": "code",
        "colab": {}
      },
      "cell_type": "code",
      "source": [
        "import os, os.path, shutil\n",
        "import zipfile\n",
        "import matplotlib.pyplot as plt\n",
        "%matplotlib inline"
      ],
      "execution_count": 0,
      "outputs": []
    },
    {
      "metadata": {
        "id": "0l-hSHFgkImi",
        "colab_type": "code",
        "outputId": "12648ed6-2fc1-45a5-e493-baca0eeab76f",
        "colab": {
          "base_uri": "https://localhost:8080/",
          "height": 202
        }
      },
      "cell_type": "code",
      "source": [
        "if not os.path.exists(\"./data\"):\n",
        "    os.makedirs(\"./data\")\n",
        "if not os.path.exists(\"./data/jena_climate.zip\"):\n",
        "  !wget --no-check-certificate \\\n",
        "    https://s3.amazonaws.com/keras-datasets/jena_climate_2009_2016.csv.zip \\\n",
        "    -O ./data/jena_climate.zip"
      ],
      "execution_count": 0,
      "outputs": [
        {
          "output_type": "stream",
          "text": [
            "--2018-12-06 12:21:23--  https://s3.amazonaws.com/keras-datasets/jena_climate_2009_2016.csv.zip\n",
            "Resolving s3.amazonaws.com (s3.amazonaws.com)... 52.216.105.53\n",
            "Connecting to s3.amazonaws.com (s3.amazonaws.com)|52.216.105.53|:443... connected.\n",
            "HTTP request sent, awaiting response... 200 OK\n",
            "Length: 13568290 (13M) [application/zip]\n",
            "Saving to: ‘./data/jena_climate.zip’\n",
            "\n",
            "./data/jena_climate 100%[===================>]  12.94M  16.4MB/s    in 0.8s    \n",
            "\n",
            "2018-12-06 12:21:25 (16.4 MB/s) - ‘./data/jena_climate.zip’ saved [13568290/13568290]\n",
            "\n"
          ],
          "name": "stdout"
        }
      ]
    },
    {
      "metadata": {
        "id": "6K36xdeGkMzx",
        "colab_type": "code",
        "colab": {}
      },
      "cell_type": "code",
      "source": [
        "local_zip = './data/jena_climate.zip'\n",
        "zip_ref = zipfile.ZipFile(local_zip, 'r')\n",
        "zip_ref.extractall('./data')\n",
        "zip_ref.close()"
      ],
      "execution_count": 0,
      "outputs": []
    },
    {
      "metadata": {
        "id": "f2UxnYiij0RL",
        "colab_type": "code",
        "outputId": "74198772-2ae2-434e-cb0f-6cc492f3656a",
        "colab": {
          "base_uri": "https://localhost:8080/",
          "height": 34
        }
      },
      "cell_type": "code",
      "source": [
        "!ls data"
      ],
      "execution_count": 0,
      "outputs": [
        {
          "output_type": "stream",
          "text": [
            "jena_climate_2009_2016.csv  jena_climate.zip\n"
          ],
          "name": "stdout"
        }
      ]
    },
    {
      "metadata": {
        "id": "mq_Hbg4MiHpS",
        "colab_type": "code",
        "outputId": "9cc3ffd8-6c4f-41d1-c491-8ccbb4ddeb45",
        "colab": {
          "base_uri": "https://localhost:8080/",
          "height": 70
        }
      },
      "cell_type": "code",
      "source": [
        "import os\n",
        "\n",
        "data_dir = './data'\n",
        "fname = os.path.join(data_dir, 'jena_climate_2009_2016.csv')\n",
        "\n",
        "f = open(fname)\n",
        "data = f.read()\n",
        "f.close()\n",
        "\n",
        "lines = data.split('\\n')\n",
        "header = lines[0].split(',')\n",
        "lines = lines[1:]\n",
        "\n",
        "print(header)\n",
        "print(\"데이터 사이즈: \",len(lines))"
      ],
      "execution_count": 0,
      "outputs": [
        {
          "output_type": "stream",
          "text": [
            "['\"Date Time\"', '\"p (mbar)\"', '\"T (degC)\"', '\"Tpot (K)\"', '\"Tdew (degC)\"', '\"rh (%)\"', '\"VPmax (mbar)\"', '\"VPact (mbar)\"', '\"VPdef (mbar)\"', '\"sh (g/kg)\"', '\"H2OC (mmol/mol)\"', '\"rho (g/m**3)\"', '\"wv (m/s)\"', '\"max. wv (m/s)\"', '\"wd (deg)\"']\n",
            "데이터 사이즈:  420551\n"
          ],
          "name": "stdout"
        }
      ]
    },
    {
      "metadata": {
        "id": "tq4HqkQOebv_",
        "colab_type": "code",
        "outputId": "63ce39d4-0add-473a-d75a-acfe4b2d860d",
        "colab": {
          "base_uri": "https://localhost:8080/",
          "height": 34
        }
      },
      "cell_type": "code",
      "source": [
        "type(lines)"
      ],
      "execution_count": 0,
      "outputs": [
        {
          "output_type": "execute_result",
          "data": {
            "text/plain": [
              "list"
            ]
          },
          "metadata": {
            "tags": []
          },
          "execution_count": 10
        }
      ]
    },
    {
      "metadata": {
        "id": "vPfdoM8IlHVy",
        "colab_type": "code",
        "outputId": "ae85b1e5-cf59-48c0-c6f6-54ff77fef6a2",
        "colab": {
          "base_uri": "https://localhost:8080/",
          "height": 67
        }
      },
      "cell_type": "code",
      "source": [
        "lines[:3]"
      ],
      "execution_count": 0,
      "outputs": [
        {
          "output_type": "execute_result",
          "data": {
            "text/plain": [
              "['01.01.2009 00:10:00,996.52,-8.02,265.40,-8.90,93.30,3.33,3.11,0.22,1.94,3.12,1307.75,1.03,1.75,152.30',\n",
              " '01.01.2009 00:20:00,996.57,-8.41,265.01,-9.28,93.40,3.23,3.02,0.21,1.89,3.03,1309.80,0.72,1.50,136.10',\n",
              " '01.01.2009 00:30:00,996.53,-8.51,264.91,-9.31,93.90,3.21,3.01,0.20,1.88,3.02,1310.24,0.19,0.63,171.60']"
            ]
          },
          "metadata": {
            "tags": []
          },
          "execution_count": 9
        }
      ]
    },
    {
      "metadata": {
        "id": "Zd_KYTw7iHpX",
        "colab_type": "code",
        "colab": {}
      },
      "cell_type": "code",
      "source": [
        "import numpy as np\n",
        "\n",
        "float_data = np.zeros((len(lines), len(header) - 1))\n",
        "for i, line in enumerate(lines):\n",
        "    values = [float(x) for x in line.split(',')[1:]]\n",
        "    float_data[i, :] = values"
      ],
      "execution_count": 0,
      "outputs": []
    },
    {
      "metadata": {
        "id": "NL32mmkPfOPw",
        "colab_type": "code",
        "outputId": "94aa3f62-f678-4b58-cf46-82f46d56d4ef",
        "colab": {
          "base_uri": "https://localhost:8080/",
          "height": 34
        }
      },
      "cell_type": "code",
      "source": [
        "type(float_data)"
      ],
      "execution_count": 0,
      "outputs": [
        {
          "output_type": "execute_result",
          "data": {
            "text/plain": [
              "numpy.ndarray"
            ]
          },
          "metadata": {
            "tags": []
          },
          "execution_count": 16
        }
      ]
    },
    {
      "metadata": {
        "id": "1tisf02qo8-T",
        "colab_type": "code",
        "outputId": "7dcbb05d-0e86-4619-ca34-0ed123b782b3",
        "colab": {
          "base_uri": "https://localhost:8080/",
          "height": 218
        }
      },
      "cell_type": "code",
      "source": [
        "float_data[:3]"
      ],
      "execution_count": 0,
      "outputs": [
        {
          "output_type": "execute_result",
          "data": {
            "text/plain": [
              "array([[ 9.96520e+02, -8.02000e+00,  2.65400e+02, -8.90000e+00,\n",
              "         9.33000e+01,  3.33000e+00,  3.11000e+00,  2.20000e-01,\n",
              "         1.94000e+00,  3.12000e+00,  1.30775e+03,  1.03000e+00,\n",
              "         1.75000e+00,  1.52300e+02],\n",
              "       [ 9.96570e+02, -8.41000e+00,  2.65010e+02, -9.28000e+00,\n",
              "         9.34000e+01,  3.23000e+00,  3.02000e+00,  2.10000e-01,\n",
              "         1.89000e+00,  3.03000e+00,  1.30980e+03,  7.20000e-01,\n",
              "         1.50000e+00,  1.36100e+02],\n",
              "       [ 9.96530e+02, -8.51000e+00,  2.64910e+02, -9.31000e+00,\n",
              "         9.39000e+01,  3.21000e+00,  3.01000e+00,  2.00000e-01,\n",
              "         1.88000e+00,  3.02000e+00,  1.31024e+03,  1.90000e-01,\n",
              "         6.30000e-01,  1.71600e+02]])"
            ]
          },
          "metadata": {
            "tags": []
          },
          "execution_count": 14
        }
      ]
    },
    {
      "metadata": {
        "id": "yJ_seNumiHpb",
        "colab_type": "code",
        "outputId": "4f26e108-9a2c-4d48-ba0e-7278e3b636ed",
        "colab": {
          "base_uri": "https://localhost:8080/",
          "height": 268
        }
      },
      "cell_type": "code",
      "source": [
        "temp = float_data[:, 1]  # 기온만 그려본다\n",
        "plt.plot(range(len(temp)), temp)\n",
        "plt.show()"
      ],
      "execution_count": 0,
      "outputs": [
        {
          "output_type": "display_data",
          "data": {
            "image/png": "[encoded data removed]",
            "text/plain": [
              "<matplotlib.figure.Figure at 0x7f9d3e4c12b0>"
            ]
          },
          "metadata": {
            "tags": []
          }
        }
      ]
    },
    {
      "metadata": {
        "id": "aX9k72EriHpf",
        "colab_type": "text"
      },
      "cell_type": "markdown",
      "source": [
        "### 10일간 데이터\n",
        "- 샘플은 10분마다 측정\n",
        "- 스케일링 필요 (데이터 속성이 다름)\n",
        "- 하루에 140번 측정"
      ]
    },
    {
      "metadata": {
        "id": "2HvEg4LqiHpg",
        "colab_type": "code",
        "outputId": "98f2702e-df97-4238-9047-a5c1e398ae54",
        "colab": {
          "base_uri": "https://localhost:8080/",
          "height": 265
        }
      },
      "cell_type": "code",
      "source": [
        "plt.plot(range(1440), temp[:1440])\n",
        "plt.show()"
      ],
      "execution_count": 0,
      "outputs": [
        {
          "output_type": "display_data",
          "data": {
            "image/png": "[encoded data removed]",
            "text/plain": [
              "<matplotlib.figure.Figure at 0x7f9d40da50f0>"
            ]
          },
          "metadata": {
            "tags": []
          }
        }
      ]
    },
    {
      "metadata": {
        "id": "88g2u4ZniHpl",
        "colab_type": "text"
      },
      "cell_type": "markdown",
      "source": [
        "## 파라미터 준비\n",
        "\n",
        "\n",
        "* `lookback = 720`, 5일간 데이터를 관찰.\n",
        "* `steps = 6`, 1시간마다 한번 샘플링.\n",
        "* `delay = 144`, 24시간 후를 예측.\n",
        "\n",
        "### 준비할 사항\n",
        "\n",
        "- 데이터 변환 (스케일링): 20만개 훈련 샘플을 사용하여 평균과 표준편차를 계산한다.\n",
        "- 데이터가 수치형이므로 벡터화는 사용하지 않는다\n",
        "- 입력 데이터와 레이블을 공급하기 위한 제너레이터를 작성\n",
        "\n"
      ]
    },
    {
      "metadata": {
        "id": "WNm4RFVziHpm",
        "colab_type": "code",
        "colab": {}
      },
      "cell_type": "code",
      "source": [
        "mean = float_data[:200000].mean(axis=0)\n",
        "float_data -= mean\n",
        "std = float_data[:200000].std(axis=0)\n",
        "float_data /= std"
      ],
      "execution_count": 0,
      "outputs": []
    },
    {
      "metadata": {
        "id": "kuwgbHiNiHpq",
        "colab_type": "text"
      },
      "cell_type": "markdown",
      "source": [
        "제너레이터를 (samples, targets) 형태의 값을 생성한다.  sample은 입력의 한 배치를 나타낸다.\n",
        "\n",
        "제너레이터를 사용하는 이유는 입력 데이터를 모두 한번에 메모리에 미리 로드하지 않기 위해서이다.\n",
        "\n",
        "아래는 제너레이터 함수의 인자이다:\n",
        "\n",
        "* `data`: 스케링된 입력 데이터\n",
        "* `lookback`: 과거의 몇개의 타임스텝을 사용할지 지정\n",
        "* `delay`: 미래 몇 타임스텝후를 예측할지\n",
        "* `min_index` and `max_index`: 검증 및 테스트 데이터를 구분하는 경계를 표시\n",
        "* `shuffle`: 샘플들은 랜덤하게 취할지를 지정\n",
        "* `batch_size`: 배치 크기\n",
        "* `step`: 샘플 데이터를 취할 타임스텝수 (여기서는 6)"
      ]
    },
    {
      "metadata": {
        "id": "qHO6lmHhiHpr",
        "colab_type": "code",
        "colab": {}
      },
      "cell_type": "code",
      "source": [
        "def generator(data, lookback, delay, min_index, max_index,\n",
        "              shuffle=False, batch_size=128, step=6):\n",
        "    if max_index is None:\n",
        "        max_index = len(data) - delay - 1\n",
        "    i = min_index + lookback\n",
        "    while 1:\n",
        "        if shuffle:\n",
        "            rows = np.random.randint(\n",
        "                min_index + lookback, max_index, size=batch_size)\n",
        "        else:\n",
        "            if i + batch_size >= max_index:\n",
        "                i = min_index + lookback\n",
        "            rows = np.arange(i, min(i + batch_size, max_index))\n",
        "            i += len(rows)\n",
        "\n",
        "        samples = np.zeros((len(rows),\n",
        "                           lookback // step,\n",
        "                           data.shape[-1]))\n",
        "        targets = np.zeros((len(rows),))\n",
        "        for j, row in enumerate(rows):\n",
        "            indices = range(rows[j] - lookback, rows[j], step)\n",
        "            samples[j] = data[indices]\n",
        "            targets[j] = data[rows[j] + delay][1]\n",
        "        yield samples, targets"
      ],
      "execution_count": 0,
      "outputs": []
    },
    {
      "metadata": {
        "id": "W8XSvlCXiHpu",
        "colab_type": "text"
      },
      "cell_type": "markdown",
      "source": [
        "훈련 데이터는 처음 20만개, 검증 데이터는 다음 10만개, 나머지는 테스트 데이터로 사용한다.\n",
        "SGD를 사용하면 과적합을 피하고, 최적값을 찾아낸 확률이 높아진다."
      ]
    },
    {
      "metadata": {
        "id": "EsRiVyuJiHpv",
        "colab_type": "code",
        "colab": {}
      },
      "cell_type": "code",
      "source": [
        "lookback = 1440\n",
        "step = 6\n",
        "delay = 144\n",
        "batch_size = 128\n",
        "\n",
        "train_gen = generator(float_data,\n",
        "                      lookback=lookback,\n",
        "                      delay=delay,\n",
        "                      min_index=0,\n",
        "                      max_index=200000,\n",
        "                      shuffle=True,\n",
        "                      step=step, \n",
        "                      batch_size=batch_size)\n",
        "val_gen = generator(float_data,\n",
        "                    lookback=lookback,\n",
        "                    delay=delay,\n",
        "                    min_index=200001,\n",
        "                    max_index=300000,\n",
        "                    step=step,\n",
        "                    batch_size=batch_size)\n",
        "test_gen = generator(float_data,\n",
        "                     lookback=lookback,\n",
        "                     delay=delay,\n",
        "                     min_index=300001,\n",
        "                     max_index=None,\n",
        "                     step=step,\n",
        "                     batch_size=batch_size)\n",
        "\n",
        "# This is how many steps to draw from `val_gen`\n",
        "# in order to see the whole validation set:\n",
        "val_steps = (300000 - 200001 - lookback) // batch_size\n",
        "\n",
        "# This is how many steps to draw from `test_gen`\n",
        "# in order to see the whole test set:\n",
        "test_steps = (len(float_data) - 300001 - lookback) // batch_size"
      ],
      "execution_count": 0,
      "outputs": []
    },
    {
      "metadata": {
        "id": "9YbObfmLiHp0",
        "colab_type": "text"
      },
      "cell_type": "markdown",
      "source": [
        "## 기본 성능 모델\n",
        "\n",
        "평균치 예측 등, 가장 기본적인 성능을 내는, 최소 기준의 모델을 말한다. 기계학습을 사용하면 적어도 이보다는 성능이 좋아야 한다.\n",
        "  \n",
        "여기서는 내일의 날씨는 오늘과 같다고 단순히 예측하는 모델을 사용하겠다. 성능 평가로 절대값 오차를 사용(MAE). "
      ]
    },
    {
      "metadata": {
        "id": "aaw7QQPfiHp1",
        "colab_type": "code",
        "colab": {}
      },
      "cell_type": "code",
      "source": [
        "np.mean(np.abs(preds - targets))"
      ],
      "execution_count": 0,
      "outputs": []
    },
    {
      "metadata": {
        "id": "sqriX86NiHp4",
        "colab_type": "text"
      },
      "cell_type": "markdown",
      "source": [
        "- 아래에 기본 성능 모델의 성능을 계산하였다."
      ]
    },
    {
      "metadata": {
        "id": "nJ14NY-ciHp6",
        "colab_type": "code",
        "outputId": "a0590d83-0d51-4fb7-9f55-aea4d2ddda14",
        "colab": {}
      },
      "cell_type": "code",
      "source": [
        "def evaluate_naive_method():\n",
        "    batch_maes = []\n",
        "    for step in range(val_steps):\n",
        "        samples, targets = next(val_gen)\n",
        "        preds = samples[:, -1, 1]\n",
        "        mae = np.mean(np.abs(preds - targets))\n",
        "        batch_maes.append(mae)\n",
        "    print(np.mean(batch_maes))\n",
        "    \n",
        "evaluate_naive_method()"
      ],
      "execution_count": 0,
      "outputs": [
        {
          "output_type": "stream",
          "text": [
            "0.289735972991\n"
          ],
          "name": "stdout"
        }
      ]
    },
    {
      "metadata": {
        "id": "R8v7_bkdiHp-",
        "colab_type": "text"
      },
      "cell_type": "markdown",
      "source": [
        "오차 값 0.29는 정규화 한 값이므로 표준 편차를 곱하여 온도의 오차를 구할 수 있다. 온도의 평균 오차는  \n",
        "2.57˚C이다. "
      ]
    },
    {
      "metadata": {
        "id": "cV2ubn4ZiHqA",
        "colab_type": "text"
      },
      "cell_type": "markdown",
      "source": [
        "## 먼저 간단한 신경망 모델 만들기\n",
        "\n",
        "- RNN과 같은 복잡한 모데을 처음부터 만들지 말고, 우선 간단한 신경망으로 동작을 확인해 보는 것이 필요하다.'\n",
        "\n",
        "- 여기서는 두개의 전결합망으로 구성된 MLP을 먼저 만들어보겠다. 성능평가는 MAE를 사용한다.회귀문제이므로 마지막 단은 활성화함수를 사용하지 않는다."
      ]
    },
    {
      "metadata": {
        "id": "4Kyvqb1BiHqB",
        "colab_type": "code",
        "outputId": "45bdb6dd-363a-4ea3-a902-cf9625c0d54f",
        "colab": {}
      },
      "cell_type": "code",
      "source": [
        "from keras.models import Sequential\n",
        "from keras import layers\n",
        "from keras.optimizers import RMSprop\n",
        "\n",
        "model = Sequential()\n",
        "model.add(layers.Flatten(input_shape=(lookback // step, float_data.shape[-1])))\n",
        "model.add(layers.Dense(32, activation='relu'))\n",
        "model.add(layers.Dense(1))\n",
        "\n",
        "model.compile(optimizer=RMSprop(), loss='mae')\n",
        "history = model.fit_generator(train_gen,\n",
        "                              steps_per_epoch=500,\n",
        "                              epochs=20,\n",
        "                              validation_data=val_gen,\n",
        "                              validation_steps=val_steps)"
      ],
      "execution_count": 0,
      "outputs": [
        {
          "output_type": "stream",
          "text": [
            "Epoch 1/20\n",
            "500/500 [==============================] - 10s - loss: 1.5009 - val_loss: 0.4131\n",
            "Epoch 2/20\n",
            "500/500 [==============================] - 10s - loss: 0.4272 - val_loss: 0.2994\n",
            "Epoch 3/20\n",
            "500/500 [==============================] - 9s - loss: 0.2837 - val_loss: 0.3115\n",
            "Epoch 4/20\n",
            "500/500 [==============================] - 9s - loss: 0.2629 - val_loss: 0.3213\n",
            "Epoch 5/20\n",
            "500/500 [==============================] - 9s - loss: 0.2486 - val_loss: 0.3156\n",
            "Epoch 6/20\n",
            "500/500 [==============================] - 9s - loss: 0.2405 - val_loss: 0.3144\n",
            "Epoch 7/20\n",
            "500/500 [==============================] - 9s - loss: 0.2351 - val_loss: 0.3165\n",
            "Epoch 8/20\n",
            "500/500 [==============================] - 9s - loss: 0.2289 - val_loss: 0.3151\n",
            "Epoch 9/20\n",
            "500/500 [==============================] - 9s - loss: 0.2248 - val_loss: 0.3238\n",
            "Epoch 10/20\n",
            "500/500 [==============================] - 9s - loss: 0.2215 - val_loss: 0.3442\n",
            "Epoch 11/20\n",
            "500/500 [==============================] - 9s - loss: 0.2161 - val_loss: 0.3247\n",
            "Epoch 12/20\n",
            "500/500 [==============================] - 9s - loss: 0.2136 - val_loss: 0.3282\n",
            "Epoch 13/20\n",
            "500/500 [==============================] - 9s - loss: 0.2117 - val_loss: 0.3404\n",
            "Epoch 14/20\n",
            "500/500 [==============================] - 9s - loss: 0.2087 - val_loss: 0.3359\n",
            "Epoch 15/20\n",
            "500/500 [==============================] - 9s - loss: 0.2076 - val_loss: 0.3567\n",
            "Epoch 16/20\n",
            "500/500 [==============================] - 9s - loss: 0.2055 - val_loss: 0.3316\n",
            "Epoch 17/20\n",
            "500/500 [==============================] - 9s - loss: 0.2030 - val_loss: 0.3437\n",
            "Epoch 18/20\n",
            "500/500 [==============================] - 9s - loss: 0.2016 - val_loss: 0.3312\n",
            "Epoch 19/20\n",
            "500/500 [==============================] - 9s - loss: 0.1985 - val_loss: 0.3472\n",
            "Epoch 20/20\n",
            "500/500 [==============================] - 9s - loss: 0.1985 - val_loss: 0.3545\n"
          ],
          "name": "stdout"
        }
      ]
    },
    {
      "metadata": {
        "id": "rrAbpjzkiHqI",
        "colab_type": "text"
      },
      "cell_type": "markdown",
      "source": [
        "훈련과 검증 데이터에 대해서 손실함수 그래프를 그려보겠다."
      ]
    },
    {
      "metadata": {
        "id": "3vLXQh6diHqK",
        "colab_type": "code",
        "outputId": "97e2dd35-c885-4465-fdd1-0543712594ae",
        "colab": {}
      },
      "cell_type": "code",
      "source": [
        "import matplotlib.pyplot as plt\n",
        "\n",
        "loss = history.history['loss']\n",
        "val_loss = history.history['val_loss']\n",
        "\n",
        "epochs = range(len(loss))\n",
        "\n",
        "plt.figure()\n",
        "\n",
        "plt.plot(epochs, loss, 'bo', label='Training loss')\n",
        "plt.plot(epochs, val_loss, 'b', label='Validation loss')\n",
        "plt.title('Training and validation loss')\n",
        "plt.legend()\n",
        "\n",
        "plt.show()"
      ],
      "execution_count": 0,
      "outputs": [
        {
          "output_type": "display_data",
          "data": {
            "text/plain": [
              "<matplotlib.figure.Figure at 0x7f3317e5a2b0>"
            ]
          },
          "metadata": {
            "tags": []
          }
        },
        {
          "output_type": "display_data",
          "data": {
            "image/png": "[encoded data removed]",
            "text/plain": [
              "<matplotlib.figure.Figure at 0x7f3317ee2e80>"
            ]
          },
          "metadata": {
            "tags": []
          }
        }
      ]
    },
    {
      "metadata": {
        "id": "qb7xgsFqiHqS",
        "colab_type": "text"
      },
      "cell_type": "markdown",
      "source": [
        "앞에서 구한 기본성능 0.29을 얻는 것도 쉽지 않다. 모델로 복잡한 구조를 사용했다고 해서 간단한, 상식적인 모델보다 우수한 성능을 내는 것은 아니다. 모델이 이러한 답을 바로 찾을 수 있다는 보장은 없다. (사람의 직관에 의한 기본 성능을 내는 것도 컴퓨터에게는 어려울 수 있다.)"
      ]
    },
    {
      "metadata": {
        "id": "EuBKIa80iHqU",
        "colab_type": "text"
      },
      "cell_type": "markdown",
      "source": [
        "## 간단한 RNN 모델\n",
        "\n",
        "앞의 MLP는 시간 정보를 활용하지 못하고 있다. 시퀀스 데이터를 그대로 사용하고 이를 반영하는 모델을 만들어야 한다. \n",
        "\n",
        "LSTM을 간략히 구현하는 방식인 GRU(gated recurrent unit)을 사용하겠다."
      ]
    },
    {
      "metadata": {
        "id": "gJTSUXQKiHqW",
        "colab_type": "code",
        "outputId": "b110c9d9-f3aa-44a7-f3fa-ee1628c6668a",
        "colab": {}
      },
      "cell_type": "code",
      "source": [
        "from keras.models import Sequential\n",
        "from keras import layers\n",
        "from keras.optimizers import RMSprop\n",
        "\n",
        "model = Sequential()\n",
        "model.add(layers.GRU(32, input_shape=(None, float_data.shape[-1])))\n",
        "model.add(layers.Dense(1))\n",
        "\n",
        "model.compile(optimizer=RMSprop(), loss='mae')\n",
        "history = model.fit_generator(train_gen,\n",
        "                              steps_per_epoch=500,\n",
        "                              epochs=20,\n",
        "                              validation_data=val_gen,\n",
        "                              validation_steps=val_steps)"
      ],
      "execution_count": 0,
      "outputs": [
        {
          "output_type": "stream",
          "text": [
            "Epoch 1/20\n",
            "500/500 [==============================] - 169s - loss: 0.3216 - val_loss: 0.2738\n",
            "Epoch 2/20\n",
            "500/500 [==============================] - 168s - loss: 0.2846 - val_loss: 0.2654\n",
            "Epoch 3/20\n",
            "500/500 [==============================] - 168s - loss: 0.2772 - val_loss: 0.2653\n",
            "Epoch 4/20\n",
            "500/500 [==============================] - 168s - loss: 0.2707 - val_loss: 0.2663\n",
            "Epoch 5/20\n",
            "500/500 [==============================] - 168s - loss: 0.2643 - val_loss: 0.2680\n",
            "Epoch 6/20\n",
            "500/500 [==============================] - 169s - loss: 0.2584 - val_loss: 0.2644\n",
            "Epoch 7/20\n",
            "500/500 [==============================] - 168s - loss: 0.2553 - val_loss: 0.2658\n",
            "Epoch 8/20\n",
            "500/500 [==============================] - 168s - loss: 0.2508 - val_loss: 0.2672\n",
            "Epoch 9/20\n",
            "500/500 [==============================] - 165s - loss: 0.2455 - val_loss: 0.2728\n",
            "Epoch 10/20\n",
            "500/500 [==============================] - 164s - loss: 0.2423 - val_loss: 0.2801\n",
            "Epoch 11/20\n",
            "500/500 [==============================] - 164s - loss: 0.2386 - val_loss: 0.2750\n",
            "Epoch 12/20\n",
            "500/500 [==============================] - 164s - loss: 0.2364 - val_loss: 0.2774\n",
            "Epoch 13/20\n",
            "500/500 [==============================] - 165s - loss: 0.2313 - val_loss: 0.2810\n",
            "Epoch 14/20\n",
            "500/500 [==============================] - 165s - loss: 0.2283 - val_loss: 0.2855\n",
            "Epoch 15/20\n",
            "500/500 [==============================] - 165s - loss: 0.2246 - val_loss: 0.2879\n",
            "Epoch 16/20\n",
            "500/500 [==============================] - 165s - loss: 0.2194 - val_loss: 0.2894\n",
            "Epoch 17/20\n",
            "500/500 [==============================] - 164s - loss: 0.2181 - val_loss: 0.2941\n",
            "Epoch 18/20\n",
            "500/500 [==============================] - 164s - loss: 0.2139 - val_loss: 0.2982\n",
            "Epoch 19/20\n",
            "500/500 [==============================] - 164s - loss: 0.2100 - val_loss: 0.2973\n",
            "Epoch 20/20\n",
            "500/500 [==============================] - 165s - loss: 0.2074 - val_loss: 0.3034\n"
          ],
          "name": "stdout"
        }
      ]
    },
    {
      "metadata": {
        "id": "FkB_k03QiHqa",
        "colab_type": "text"
      },
      "cell_type": "markdown",
      "source": [
        "아래 결과를 보면 성능이 나아졌다."
      ]
    },
    {
      "metadata": {
        "id": "nK8xGJ2SiHqb",
        "colab_type": "code",
        "outputId": "59b09734-14d8-4e38-f03a-4a159f6716e9",
        "colab": {}
      },
      "cell_type": "code",
      "source": [
        "loss = history.history['loss']\n",
        "val_loss = history.history['val_loss']\n",
        "\n",
        "epochs = range(len(loss))\n",
        "\n",
        "plt.figure()\n",
        "\n",
        "plt.plot(epochs, loss, 'bo', label='Training loss')\n",
        "plt.plot(epochs, val_loss, 'b', label='Validation loss')\n",
        "plt.title('Training and validation loss')\n",
        "plt.legend()\n",
        "\n",
        "plt.show()"
      ],
      "execution_count": 0,
      "outputs": [
        {
          "output_type": "display_data",
          "data": {
            "text/plain": [
              "<matplotlib.figure.Figure at 0x7f3317e755f8>"
            ]
          },
          "metadata": {
            "tags": []
          }
        },
        {
          "output_type": "display_data",
          "data": {
            "image/png": "[encoded data removed]",
            "text/plain": [
              "<matplotlib.figure.Figure at 0x7f3316a8b358>"
            ]
          },
          "metadata": {
            "tags": []
          }
        }
      ]
    },
    {
      "metadata": {
        "id": "tbcDyCEpiHqf",
        "colab_type": "text"
      },
      "cell_type": "markdown",
      "source": [
        "MAE 성능이 0.265 정도로 조금 개선되었다.(2.35˚C)  - 기본 모델의 성능이 2.57˚C 였다."
      ]
    },
    {
      "metadata": {
        "id": "6XMiUYegiHqf",
        "colab_type": "text"
      },
      "cell_type": "markdown",
      "source": [
        "## 과대적합 줄이기\n",
        "\n",
        "몇 번의 이포크 후에 성능이 바빠지므로 과대적합된 것을 알 수 있다. 오랫동안 순환층 이전에 드롭아웃을 사용하면 학습에 방해가 된다고 알려졌다. 타임 스텝마다 랜덤하게 드롭아웃 패턴을 바꾸지 않고, 동일한 패턴을 모든 타임 스텝에 적용해야 한다. 드롭아웃을 사용하면 학습시간이 오래걸린다.\n"
      ]
    },
    {
      "metadata": {
        "id": "AntVPUN_iHqg",
        "colab_type": "code",
        "outputId": "c548c64d-29fb-4ed3-e50a-96cd07e1909f",
        "colab": {}
      },
      "cell_type": "code",
      "source": [
        "from keras.models import Sequential\n",
        "from keras import layers\n",
        "from keras.optimizers import RMSprop\n",
        "\n",
        "model = Sequential()\n",
        "model.add(layers.GRU(32,\n",
        "                     dropout=0.2,\n",
        "                     recurrent_dropout=0.2,\n",
        "                     input_shape=(None, float_data.shape[-1])))\n",
        "model.add(layers.Dense(1))\n",
        "\n",
        "model.compile(optimizer=RMSprop(), loss='mae')\n",
        "history = model.fit_generator(train_gen,\n",
        "                              steps_per_epoch=500,\n",
        "                              epochs=40,\n",
        "                              validation_data=val_gen,\n",
        "                              validation_steps=val_steps)"
      ],
      "execution_count": 0,
      "outputs": [
        {
          "output_type": "stream",
          "text": [
            "Epoch 1/40\n",
            "500/500 [==============================] - 171s - loss: 0.3526 - val_loss: 0.2740\n",
            "Epoch 2/40\n",
            "500/500 [==============================] - 170s - loss: 0.3138 - val_loss: 0.2742\n",
            "Epoch 3/40\n",
            "500/500 [==============================] - 170s - loss: 0.3065 - val_loss: 0.2692\n",
            "Epoch 4/40\n",
            "500/500 [==============================] - 170s - loss: 0.3033 - val_loss: 0.2694\n",
            "Epoch 5/40\n",
            "500/500 [==============================] - 170s - loss: 0.3006 - val_loss: 0.2695\n",
            "Epoch 6/40\n",
            "500/500 [==============================] - 170s - loss: 0.2990 - val_loss: 0.2709\n",
            "Epoch 7/40\n",
            "500/500 [==============================] - 170s - loss: 0.2955 - val_loss: 0.2667\n",
            "Epoch 8/40\n",
            "500/500 [==============================] - 170s - loss: 0.2942 - val_loss: 0.2671\n",
            "Epoch 9/40\n",
            "500/500 [==============================] - 171s - loss: 0.2940 - val_loss: 0.2649\n",
            "Epoch 10/40\n",
            "500/500 [==============================] - 170s - loss: 0.2923 - val_loss: 0.2673\n",
            "Epoch 11/40\n",
            "500/500 [==============================] - 170s - loss: 0.2894 - val_loss: 0.2695\n",
            "Epoch 12/40\n",
            "500/500 [==============================] - 170s - loss: 0.2899 - val_loss: 0.2648\n",
            "Epoch 13/40\n",
            "500/500 [==============================] - 170s - loss: 0.2879 - val_loss: 0.2634\n",
            "Epoch 14/40\n",
            "500/500 [==============================] - 170s - loss: 0.2884 - val_loss: 0.2666\n",
            "Epoch 15/40\n",
            "500/500 [==============================] - 170s - loss: 0.2863 - val_loss: 0.2695\n",
            "Epoch 16/40\n",
            "500/500 [==============================] - 170s - loss: 0.2852 - val_loss: 0.2705\n",
            "Epoch 17/40\n",
            "500/500 [==============================] - 170s - loss: 0.2843 - val_loss: 0.2739\n",
            "Epoch 18/40\n",
            "500/500 [==============================] - 170s - loss: 0.2844 - val_loss: 0.2646\n",
            "Epoch 19/40\n",
            "500/500 [==============================] - 170s - loss: 0.2827 - val_loss: 0.2661\n",
            "Epoch 20/40\n",
            "500/500 [==============================] - 170s - loss: 0.2813 - val_loss: 0.2637\n",
            "Epoch 21/40\n",
            "500/500 [==============================] - 170s - loss: 0.2805 - val_loss: 0.2663\n",
            "Epoch 22/40\n",
            "500/500 [==============================] - 170s - loss: 0.2786 - val_loss: 0.2662\n",
            "Epoch 23/40\n",
            "500/500 [==============================] - 170s - loss: 0.2795 - val_loss: 0.2637\n",
            "Epoch 24/40\n",
            "500/500 [==============================] - 170s - loss: 0.2801 - val_loss: 0.2649\n",
            "Epoch 25/40\n",
            "500/500 [==============================] - 170s - loss: 0.2774 - val_loss: 0.2723\n",
            "Epoch 26/40\n",
            "500/500 [==============================] - 170s - loss: 0.2788 - val_loss: 0.2682\n",
            "Epoch 27/40\n",
            "500/500 [==============================] - 171s - loss: 0.2780 - val_loss: 0.2655\n",
            "Epoch 28/40\n",
            "500/500 [==============================] - 170s - loss: 0.2782 - val_loss: 0.2645\n",
            "Epoch 29/40\n",
            "500/500 [==============================] - 170s - loss: 0.2770 - val_loss: 0.2647\n",
            "Epoch 30/40\n",
            "500/500 [==============================] - 170s - loss: 0.2756 - val_loss: 0.2746\n",
            "Epoch 31/40\n",
            "500/500 [==============================] - 171s - loss: 0.2763 - val_loss: 0.2641\n",
            "Epoch 32/40\n",
            "500/500 [==============================] - 170s - loss: 0.2752 - val_loss: 0.2733\n",
            "Epoch 33/40\n",
            "500/500 [==============================] - 170s - loss: 0.2742 - val_loss: 0.2619\n",
            "Epoch 34/40\n",
            "500/500 [==============================] - 170s - loss: 0.2753 - val_loss: 0.2711\n",
            "Epoch 35/40\n",
            "500/500 [==============================] - 170s - loss: 0.2727 - val_loss: 0.2658\n",
            "Epoch 36/40\n",
            "500/500 [==============================] - 170s - loss: 0.2724 - val_loss: 0.2664\n",
            "Epoch 37/40\n",
            "500/500 [==============================] - 170s - loss: 0.2725 - val_loss: 0.2661\n",
            "Epoch 38/40\n",
            "500/500 [==============================] - 171s - loss: 0.2725 - val_loss: 0.2633\n",
            "Epoch 39/40\n",
            "500/500 [==============================] - 170s - loss: 0.2726 - val_loss: 0.2695\n",
            "Epoch 40/40\n",
            "500/500 [==============================] - 170s - loss: 0.2727 - val_loss: 0.2719\n"
          ],
          "name": "stdout"
        }
      ]
    },
    {
      "metadata": {
        "id": "dLkEk4NJiHqn",
        "colab_type": "code",
        "outputId": "0ccc6f95-8205-42d9-8873-2d538eecd18a",
        "colab": {}
      },
      "cell_type": "code",
      "source": [
        "loss = history.history['loss']\n",
        "val_loss = history.history['val_loss']\n",
        "\n",
        "epochs = range(len(loss))\n",
        "\n",
        "plt.figure()\n",
        "\n",
        "plt.plot(epochs, loss, 'bo', label='Training loss')\n",
        "plt.plot(epochs, val_loss, 'b', label='Validation loss')\n",
        "plt.title('Training and validation loss')\n",
        "plt.legend()\n",
        "\n",
        "plt.show()"
      ],
      "execution_count": 0,
      "outputs": [
        {
          "output_type": "display_data",
          "data": {
            "text/plain": [
              "<matplotlib.figure.Figure at 0x7f3317e879e8>"
            ]
          },
          "metadata": {
            "tags": []
          }
        },
        {
          "output_type": "display_data",
          "data": {
            "image/png": "[encoded data removed]",
            "text/plain": [
              "<matplotlib.figure.Figure at 0x7f3315076e48>"
            ]
          },
          "metadata": {
            "tags": []
          }
        }
      ]
    },
    {
      "metadata": {
        "id": "rhlv49kniHqs",
        "colab_type": "text"
      },
      "cell_type": "markdown",
      "source": [
        "과대적합이 발생하지 않았다. 성능은 별로 개선되지는 않았다."
      ]
    },
    {
      "metadata": {
        "id": "fhEII381iHqt",
        "colab_type": "text"
      },
      "cell_type": "markdown",
      "source": [
        "## 순환망 쌓기 (Stacking)\n",
        "\n",
        "이제 과대적합이 되기 전까지는 네트워크의 복잡도(용량)을 늘려서 성능을 개선할 수 있다. 스태킹을 하려면 중간 계층에서는 시퀀스 전체를 출력해야 한다. 이를 위해서 return_sequences=True 로 설정해야 한다."
      ]
    },
    {
      "metadata": {
        "id": "Max-3YU0iHqv",
        "colab_type": "code",
        "outputId": "28794cf0-94b4-4b1c-bc1c-cd624385e6a3",
        "colab": {}
      },
      "cell_type": "code",
      "source": [
        "from keras.models import Sequential\n",
        "from keras import layers\n",
        "from keras.optimizers import RMSprop\n",
        "\n",
        "model = Sequential()\n",
        "model.add(layers.GRU(32,\n",
        "                     dropout=0.1,\n",
        "                     recurrent_dropout=0.5,\n",
        "                     return_sequences=True,\n",
        "                     input_shape=(None, float_data.shape[-1])))\n",
        "model.add(layers.GRU(64, activation='relu',\n",
        "                     dropout=0.1, \n",
        "                     recurrent_dropout=0.5))\n",
        "model.add(layers.Dense(1))\n",
        "\n",
        "model.compile(optimizer=RMSprop(), loss='mae')\n",
        "history = model.fit_generator(train_gen,\n",
        "                              steps_per_epoch=500,\n",
        "                              epochs=40,\n",
        "                              validation_data=val_gen,\n",
        "                              validation_steps=val_steps)"
      ],
      "execution_count": 0,
      "outputs": [
        {
          "output_type": "stream",
          "text": [
            "Epoch 1/40\n",
            "500/500 [==============================] - 346s - loss: 0.3341 - val_loss: 0.2780\n",
            "Epoch 2/40\n",
            "500/500 [==============================] - 344s - loss: 0.3125 - val_loss: 0.2754\n",
            "Epoch 3/40\n",
            "500/500 [==============================] - 344s - loss: 0.3045 - val_loss: 0.2696\n",
            "Epoch 4/40\n",
            "500/500 [==============================] - 344s - loss: 0.3018 - val_loss: 0.2747\n",
            "Epoch 5/40\n",
            "500/500 [==============================] - 344s - loss: 0.2957 - val_loss: 0.2690\n",
            "Epoch 6/40\n",
            "500/500 [==============================] - 344s - loss: 0.2923 - val_loss: 0.2692\n",
            "Epoch 7/40\n",
            "500/500 [==============================] - 344s - loss: 0.2907 - val_loss: 0.2673\n",
            "Epoch 8/40\n",
            "500/500 [==============================] - 343s - loss: 0.2879 - val_loss: 0.2690\n",
            "Epoch 9/40\n",
            "500/500 [==============================] - 343s - loss: 0.2866 - val_loss: 0.2743\n",
            "Epoch 10/40\n",
            "500/500 [==============================] - 344s - loss: 0.2833 - val_loss: 0.2669\n",
            "Epoch 11/40\n",
            "500/500 [==============================] - 344s - loss: 0.2825 - val_loss: 0.2669\n",
            "Epoch 12/40\n",
            "500/500 [==============================] - 344s - loss: 0.2822 - val_loss: 0.2700\n",
            "Epoch 13/40\n",
            "500/500 [==============================] - 345s - loss: 0.2785 - val_loss: 0.2698\n",
            "Epoch 14/40\n",
            "500/500 [==============================] - 345s - loss: 0.2775 - val_loss: 0.2634\n",
            "Epoch 15/40\n",
            "500/500 [==============================] - 344s - loss: 0.2778 - val_loss: 0.2653\n",
            "Epoch 16/40\n",
            "500/500 [==============================] - 344s - loss: 0.2740 - val_loss: 0.2633\n",
            "Epoch 17/40\n",
            "500/500 [==============================] - 344s - loss: 0.2746 - val_loss: 0.2680\n",
            "Epoch 18/40\n",
            "500/500 [==============================] - 344s - loss: 0.2731 - val_loss: 0.2649\n",
            "Epoch 19/40\n",
            "500/500 [==============================] - 345s - loss: 0.2709 - val_loss: 0.2699\n",
            "Epoch 20/40\n",
            "500/500 [==============================] - 344s - loss: 0.2693 - val_loss: 0.2655\n",
            "Epoch 21/40\n",
            "500/500 [==============================] - 345s - loss: 0.2679 - val_loss: 0.2654\n",
            "Epoch 22/40\n",
            "500/500 [==============================] - 344s - loss: 0.2677 - val_loss: 0.2731\n",
            "Epoch 23/40\n",
            "500/500 [==============================] - 345s - loss: 0.2672 - val_loss: 0.2680\n",
            "Epoch 24/40\n",
            "500/500 [==============================] - 345s - loss: 0.2648 - val_loss: 0.2669\n",
            "Epoch 25/40\n",
            "500/500 [==============================] - 345s - loss: 0.2645 - val_loss: 0.2655\n",
            "Epoch 26/40\n",
            "500/500 [==============================] - 344s - loss: 0.2648 - val_loss: 0.2673\n",
            "Epoch 27/40\n",
            "500/500 [==============================] - 344s - loss: 0.2624 - val_loss: 0.2694\n",
            "Epoch 28/40\n",
            "500/500 [==============================] - 344s - loss: 0.2624 - val_loss: 0.2698\n",
            "Epoch 29/40\n",
            "500/500 [==============================] - 344s - loss: 0.2602 - val_loss: 0.2765\n",
            "Epoch 30/40\n",
            "500/500 [==============================] - 344s - loss: 0.2596 - val_loss: 0.2795\n",
            "Epoch 31/40\n",
            "500/500 [==============================] - 344s - loss: 0.2598 - val_loss: 0.2688\n",
            "Epoch 32/40\n",
            "500/500 [==============================] - 344s - loss: 0.2590 - val_loss: 0.2724\n",
            "Epoch 33/40\n",
            "500/500 [==============================] - 344s - loss: 0.2581 - val_loss: 0.2754\n",
            "Epoch 34/40\n",
            "500/500 [==============================] - 344s - loss: 0.2570 - val_loss: 0.2688\n",
            "Epoch 35/40\n",
            "500/500 [==============================] - 344s - loss: 0.2559 - val_loss: 0.2753\n",
            "Epoch 36/40\n",
            "500/500 [==============================] - 345s - loss: 0.2552 - val_loss: 0.2719\n",
            "Epoch 37/40\n",
            "500/500 [==============================] - 344s - loss: 0.2552 - val_loss: 0.2745\n",
            "Epoch 38/40\n",
            "500/500 [==============================] - 344s - loss: 0.2537 - val_loss: 0.2761\n",
            "Epoch 39/40\n",
            "500/500 [==============================] - 344s - loss: 0.2546 - val_loss: 0.2793\n",
            "Epoch 40/40\n",
            "500/500 [==============================] - 345s - loss: 0.2532 - val_loss: 0.2782\n"
          ],
          "name": "stdout"
        }
      ]
    },
    {
      "metadata": {
        "id": "rGeQzk1WiHq1",
        "colab_type": "text"
      },
      "cell_type": "markdown",
      "source": [
        "성능을 보겠다."
      ]
    },
    {
      "metadata": {
        "id": "mkH4hVrViHq2",
        "colab_type": "code",
        "outputId": "6973fc89-f88a-451b-f4c2-25ae07b16d84",
        "colab": {}
      },
      "cell_type": "code",
      "source": [
        "loss = history.history['loss']\n",
        "val_loss = history.history['val_loss']\n",
        "\n",
        "epochs = range(len(loss))\n",
        "\n",
        "plt.figure()\n",
        "\n",
        "plt.plot(epochs, loss, 'bo', label='Training loss')\n",
        "plt.plot(epochs, val_loss, 'b', label='Validation loss')\n",
        "plt.title('Training and validation loss')\n",
        "plt.legend()\n",
        "\n",
        "plt.show()"
      ],
      "execution_count": 0,
      "outputs": [
        {
          "output_type": "display_data",
          "data": {
            "text/plain": [
              "<matplotlib.figure.Figure at 0x7f33151ee630>"
            ]
          },
          "metadata": {
            "tags": []
          }
        },
        {
          "output_type": "display_data",
          "data": {
            "image/png": "[encoded data removed]",
            "text/plain": [
              "<matplotlib.figure.Figure at 0x7f3315184390>"
            ]
          },
          "metadata": {
            "tags": []
          }
        }
      ]
    },
    {
      "metadata": {
        "id": "KBrkbUxhiHq7",
        "colab_type": "text"
      },
      "cell_type": "markdown",
      "source": [
        "층을 추가해도 성능이 크게 향상되지 않는 것을 알 수 있다."
      ]
    },
    {
      "metadata": {
        "id": "_J4HOSCHiHq8",
        "colab_type": "text"
      },
      "cell_type": "markdown",
      "source": [
        "## Using bidirectional RNNs\n",
        "\n",
        "\n",
        "The last technique that we will introduce in this section is called \"bidirectional RNNs\". A bidirectional RNN is common RNN variant which \n",
        "can offer higher performance than a regular RNN on certain tasks. It is frequently used in natural language processing -- you could call it \n",
        "the Swiss army knife of deep learning for NLP.\n",
        "\n",
        "RNNs are notably order-dependent, or time-dependent: they process the timesteps of their input sequences in order, and shuffling or \n",
        "reversing the timesteps can completely change the representations that the RNN will extract from the sequence. This is precisely the reason \n",
        "why they perform well on problems where order is meaningful, such as our temperature forecasting problem. A bidirectional RNN exploits \n",
        "the order-sensitivity of RNNs: it simply consists of two regular RNNs, such as the GRU or LSTM layers that you are already familiar with, \n",
        "each processing input sequence in one direction (chronologically and antichronologically), then merging their representations. By \n",
        "processing a sequence both way, a bidirectional RNN is able to catch patterns that may have been overlooked by a one-direction RNN.\n",
        "\n",
        "Remarkably, the fact that the RNN layers in this section have so far processed sequences in chronological order (older timesteps first) may \n",
        "have been an arbitrary decision. At least, it's a decision we made no attempt at questioning so far. Could it be that our RNNs could have \n",
        "performed well enough if it were processing input sequences in antichronological order, for instance (newer timesteps first)? Let's try \n",
        "this in practice and see what we get. All we need to do is write a variant of our data generator, where the input sequences get reverted \n",
        "along the time dimension (replace the last line with `yield samples[:, ::-1, :], targets`). Training the same one-GRU-layer network as we \n",
        "used in the first experiment in this section, we get the following results:"
      ]
    },
    {
      "metadata": {
        "id": "BI9LLaB4iHq-",
        "colab_type": "code",
        "colab": {}
      },
      "cell_type": "code",
      "source": [
        "def reverse_order_generator(data, lookback, delay, min_index, max_index,\n",
        "                            shuffle=False, batch_size=128, step=6):\n",
        "    if max_index is None:\n",
        "        max_index = len(data) - delay - 1\n",
        "    i = min_index + lookback\n",
        "    while 1:\n",
        "        if shuffle:\n",
        "            rows = np.random.randint(\n",
        "                min_index + lookback, max_index, size=batch_size)\n",
        "        else:\n",
        "            if i + batch_size >= max_index:\n",
        "                i = min_index + lookback\n",
        "            rows = np.arange(i, min(i + batch_size, max_index))\n",
        "            i += len(rows)\n",
        "\n",
        "        samples = np.zeros((len(rows),\n",
        "                           lookback // step,\n",
        "                           data.shape[-1]))\n",
        "        targets = np.zeros((len(rows),))\n",
        "        for j, row in enumerate(rows):\n",
        "            indices = range(rows[j] - lookback, rows[j], step)\n",
        "            samples[j] = data[indices]\n",
        "            targets[j] = data[rows[j] + delay][1]\n",
        "        yield samples[:, ::-1, :], targets\n",
        "        \n",
        "train_gen_reverse = reverse_order_generator(\n",
        "    float_data,\n",
        "    lookback=lookback,\n",
        "    delay=delay,\n",
        "    min_index=0,\n",
        "    max_index=200000,\n",
        "    shuffle=True,\n",
        "    step=step, \n",
        "    batch_size=batch_size)\n",
        "val_gen_reverse = reverse_order_generator(\n",
        "    float_data,\n",
        "    lookback=lookback,\n",
        "    delay=delay,\n",
        "    min_index=200001,\n",
        "    max_index=300000,\n",
        "    step=step,\n",
        "    batch_size=batch_size)"
      ],
      "execution_count": 0,
      "outputs": []
    },
    {
      "metadata": {
        "id": "XHWX59rTiHrA",
        "colab_type": "code",
        "outputId": "65d8c5c7-4071-4e60-861a-b82f37fef84b",
        "colab": {}
      },
      "cell_type": "code",
      "source": [
        "model = Sequential()\n",
        "model.add(layers.GRU(32, input_shape=(None, float_data.shape[-1])))\n",
        "model.add(layers.Dense(1))\n",
        "\n",
        "model.compile(optimizer=RMSprop(), loss='mae')\n",
        "history = model.fit_generator(train_gen_reverse,\n",
        "                              steps_per_epoch=500,\n",
        "                              epochs=20,\n",
        "                              validation_data=val_gen_reverse,\n",
        "                              validation_steps=val_steps)"
      ],
      "execution_count": 0,
      "outputs": [
        {
          "output_type": "stream",
          "text": [
            "Epoch 1/20\n",
            "500/500 [==============================] - 172s - loss: 0.4781 - val_loss: 0.4797\n",
            "Epoch 2/20\n",
            "500/500 [==============================] - 171s - loss: 0.4529 - val_loss: 0.4679\n",
            "Epoch 3/20\n",
            "500/500 [==============================] - 170s - loss: 0.4071 - val_loss: 0.4536\n",
            "Epoch 4/20\n",
            "500/500 [==============================] - 171s - loss: 0.3670 - val_loss: 0.4398\n",
            "Epoch 5/20\n",
            "500/500 [==============================] - 170s - loss: 0.3343 - val_loss: 0.4320\n",
            "Epoch 6/20\n",
            "500/500 [==============================] - 170s - loss: 0.3191 - val_loss: 0.4388\n",
            "Epoch 7/20\n",
            "500/500 [==============================] - 170s - loss: 0.3065 - val_loss: 0.4186\n",
            "Epoch 8/20\n",
            "500/500 [==============================] - 170s - loss: 0.2938 - val_loss: 0.4014\n",
            "Epoch 9/20\n",
            "500/500 [==============================] - 170s - loss: 0.2824 - val_loss: 0.4077\n",
            "Epoch 10/20\n",
            "500/500 [==============================] - 170s - loss: 0.2724 - val_loss: 0.4090\n",
            "Epoch 11/20\n",
            "500/500 [==============================] - 170s - loss: 0.2670 - val_loss: 0.3990\n",
            "Epoch 12/20\n",
            "500/500 [==============================] - 170s - loss: 0.2613 - val_loss: 0.4146\n",
            "Epoch 13/20\n",
            "500/500 [==============================] - 170s - loss: 0.2548 - val_loss: 0.4013\n",
            "Epoch 14/20\n",
            "500/500 [==============================] - 170s - loss: 0.2521 - val_loss: 0.4086\n",
            "Epoch 15/20\n",
            "500/500 [==============================] - 170s - loss: 0.2458 - val_loss: 0.4178\n",
            "Epoch 16/20\n",
            "500/500 [==============================] - 170s - loss: 0.2437 - val_loss: 0.4097\n",
            "Epoch 17/20\n",
            "500/500 [==============================] - 170s - loss: 0.2416 - val_loss: 0.4163\n",
            "Epoch 18/20\n",
            "500/500 [==============================] - 170s - loss: 0.2373 - val_loss: 0.4174\n",
            "Epoch 19/20\n",
            "500/500 [==============================] - 170s - loss: 0.2355 - val_loss: 0.4064\n",
            "Epoch 20/20\n",
            "500/500 [==============================] - 170s - loss: 0.2313 - val_loss: 0.4261\n"
          ],
          "name": "stdout"
        }
      ]
    },
    {
      "metadata": {
        "id": "27AD67qUiHrF",
        "colab_type": "code",
        "outputId": "4a682198-3805-4656-f46d-dd64289b2780",
        "colab": {}
      },
      "cell_type": "code",
      "source": [
        "loss = history.history['loss']\n",
        "val_loss = history.history['val_loss']\n",
        "\n",
        "epochs = range(len(loss))\n",
        "\n",
        "plt.figure()\n",
        "\n",
        "plt.plot(epochs, loss, 'bo', label='Training loss')\n",
        "plt.plot(epochs, val_loss, 'b', label='Validation loss')\n",
        "plt.title('Training and validation loss')\n",
        "plt.legend()\n",
        "\n",
        "plt.show()"
      ],
      "execution_count": 0,
      "outputs": [
        {
          "output_type": "display_data",
          "data": {
            "text/plain": [
              "<matplotlib.figure.Figure at 0x7f3314e81860>"
            ]
          },
          "metadata": {
            "tags": []
          }
        },
        {
          "output_type": "display_data",
          "data": {
            "image/png": "[encoded data removed]",
            "text/plain": [
              "<matplotlib.figure.Figure at 0x7f330f25bcc0>"
            ]
          },
          "metadata": {
            "tags": []
          }
        }
      ]
    },
    {
      "metadata": {
        "id": "I6Exe0yziHrK",
        "colab_type": "text"
      },
      "cell_type": "markdown",
      "source": [
        "\n",
        "So the reversed-order GRU strongly underperforms even the common-sense baseline, indicating that the in our case chronological processing is very \n",
        "important to the success of our approach. This makes perfect sense: the underlying GRU layer will typically be better at remembering the \n",
        "recent past than the distant past, and naturally the more recent weather data points are more predictive than older data points in our \n",
        "problem (that's precisely what makes the common-sense baseline a fairly strong baseline). Thus the chronological version of the layer is \n",
        "bound to outperform the reversed-order version. Importantly, this is generally not true for many other problems, including natural \n",
        "language: intuitively, the importance of a word in understanding a sentence is not usually dependent on its position in the sentence. Let's \n",
        "try the same trick on the LSTM IMDB example from the previous section:"
      ]
    },
    {
      "metadata": {
        "id": "GiyM5JY0iHrK",
        "colab_type": "code",
        "outputId": "17337151-998f-4a91-9fc4-775e9c434f2d",
        "colab": {}
      },
      "cell_type": "code",
      "source": [
        "from keras.datasets import imdb\n",
        "from keras.preprocessing import sequence\n",
        "from keras import layers\n",
        "from keras.models import Sequential\n",
        "\n",
        "# Number of words to consider as features\n",
        "max_features = 10000\n",
        "# Cut texts after this number of words (among top max_features most common words)\n",
        "maxlen = 500\n",
        "\n",
        "# Load data\n",
        "(x_train, y_train), (x_test, y_test) = imdb.load_data(num_words=max_features)\n",
        "\n",
        "# Reverse sequences\n",
        "x_train = [x[::-1] for x in x_train]\n",
        "x_test = [x[::-1] for x in x_test]\n",
        "\n",
        "# Pad sequences\n",
        "x_train = sequence.pad_sequences(x_train, maxlen=maxlen)\n",
        "x_test = sequence.pad_sequences(x_test, maxlen=maxlen)\n",
        "\n",
        "model = Sequential()\n",
        "model.add(layers.Embedding(max_features, 128))\n",
        "model.add(layers.LSTM(32))\n",
        "model.add(layers.Dense(1, activation='sigmoid'))\n",
        "\n",
        "model.compile(optimizer='rmsprop',\n",
        "              loss='binary_crossentropy',\n",
        "              metrics=['acc'])\n",
        "history = model.fit(x_train, y_train,\n",
        "                    epochs=10,\n",
        "                    batch_size=128,\n",
        "                    validation_split=0.2)"
      ],
      "execution_count": 0,
      "outputs": [
        {
          "output_type": "stream",
          "text": [
            "Train on 20000 samples, validate on 5000 samples\n",
            "Epoch 1/10\n",
            "20000/20000 [==============================] - 111s - loss: 0.4965 - acc: 0.7648 - val_loss: 0.3593 - val_acc: 0.8570\n",
            "Epoch 2/10\n",
            "20000/20000 [==============================] - 107s - loss: 0.3105 - acc: 0.8810 - val_loss: 0.3329 - val_acc: 0.8648\n",
            "Epoch 3/10\n",
            "20000/20000 [==============================] - 105s - loss: 0.2566 - acc: 0.9057 - val_loss: 0.3863 - val_acc: 0.8770\n",
            "Epoch 4/10\n",
            "20000/20000 [==============================] - 106s - loss: 0.2231 - acc: 0.9195 - val_loss: 0.3471 - val_acc: 0.8556\n",
            "Epoch 5/10\n",
            "20000/20000 [==============================] - 105s - loss: 0.1912 - acc: 0.9314 - val_loss: 0.3346 - val_acc: 0.8694\n",
            "Epoch 6/10\n",
            "20000/20000 [==============================] - 105s - loss: 0.1721 - acc: 0.9379 - val_loss: 0.3621 - val_acc: 0.8520\n",
            "Epoch 7/10\n",
            "20000/20000 [==============================] - 105s - loss: 0.1613 - acc: 0.9427 - val_loss: 0.3438 - val_acc: 0.8694\n",
            "Epoch 8/10\n",
            "20000/20000 [==============================] - 105s - loss: 0.1502 - acc: 0.9503 - val_loss: 0.3890 - val_acc: 0.8588\n",
            "Epoch 9/10\n",
            "20000/20000 [==============================] - 105s - loss: 0.1369 - acc: 0.9520 - val_loss: 0.3626 - val_acc: 0.8768\n",
            "Epoch 10/10\n",
            "20000/20000 [==============================] - 105s - loss: 0.1249 - acc: 0.9579 - val_loss: 0.4639 - val_acc: 0.8566\n"
          ],
          "name": "stdout"
        }
      ]
    },
    {
      "metadata": {
        "id": "mSi2LXtuiHrO",
        "colab_type": "text"
      },
      "cell_type": "markdown",
      "source": [
        "\n",
        "We get near-identical performance as the chronological-order LSTM we tried in the previous section.\n",
        "\n",
        "Thus, remarkably, on such a text dataset, reversed-order processing works just as well as chronological processing, confirming our \n",
        "hypothesis that, albeit word order *does* matter in understanding language, *which* order you use isn't crucial. Importantly, a RNN trained \n",
        "on reversed sequences will learn different representations than one trained on the original sequences, in much the same way that you would \n",
        "have quite different mental models if time flowed backwards in the real world -- if you lived a life where you died on your first day and \n",
        "you were born on your last day. In machine learning, representations that are *different* yet *useful* are always worth exploiting, and the \n",
        "more they differ the better: they offer a new angle from which to look at your data, capturing aspects of the data that were missed by other \n",
        "approaches, and thus they can allow to boost performance on a task. This is the intuition behind \"ensembling\", a concept that we will \n",
        "introduce in the next chapter.\n",
        "\n",
        "A bidirectional RNN exploits this idea to improve upon the performance of chronological-order RNNs: it looks at its inputs sequence both \n",
        "ways, obtaining potentially richer representations and capturing patterns that may have been missed by the chronological-order version alone."
      ]
    },
    {
      "metadata": {
        "id": "7D6iSzRPiHrO",
        "colab_type": "text"
      },
      "cell_type": "markdown",
      "source": [
        "![bidirectional rnn](https://s3.amazonaws.com/book.keras.io/img/ch6/bidirectional_rnn.png)"
      ]
    },
    {
      "metadata": {
        "id": "WU_LG7driHrP",
        "colab_type": "text"
      },
      "cell_type": "markdown",
      "source": [
        "To instantiate a bidirectional RNN in Keras, one would use the `Bidirectional` layer, which takes as first argument a recurrent layer \n",
        "instance. `Bidirectional` will create a second, separate instance of this recurrent layer, and will use one instance for processing the \n",
        "input sequences in chronological order and the other instance for processing the input sequences in reversed order. Let's try it on the \n",
        "IMDB sentiment analysis task:"
      ]
    },
    {
      "metadata": {
        "id": "ySg7sclDiHrQ",
        "colab_type": "code",
        "colab": {}
      },
      "cell_type": "code",
      "source": [
        "from keras import backend as K\n",
        "K.clear_session()"
      ],
      "execution_count": 0,
      "outputs": []
    },
    {
      "metadata": {
        "id": "rSjt1g6hiHrS",
        "colab_type": "code",
        "outputId": "689d6af4-9de5-4067-b07c-a856b2a77c89",
        "colab": {}
      },
      "cell_type": "code",
      "source": [
        "model = Sequential()\n",
        "model.add(layers.Embedding(max_features, 32))\n",
        "model.add(layers.Bidirectional(layers.LSTM(32)))\n",
        "model.add(layers.Dense(1, activation='sigmoid'))\n",
        "\n",
        "model.compile(optimizer='rmsprop', loss='binary_crossentropy', metrics=['acc'])\n",
        "history = model.fit(x_train, y_train, epochs=10, batch_size=128, validation_split=0.2)"
      ],
      "execution_count": 0,
      "outputs": [
        {
          "output_type": "stream",
          "text": [
            "Train on 20000 samples, validate on 5000 samples\n",
            "Epoch 1/10\n",
            "20000/20000 [==============================] - 214s - loss: 0.5994 - acc: 0.6865 - val_loss: 0.4722 - val_acc: 0.8090\n",
            "Epoch 2/10\n",
            "20000/20000 [==============================] - 213s - loss: 0.3673 - acc: 0.8543 - val_loss: 0.3769 - val_acc: 0.8448\n",
            "Epoch 3/10\n",
            "20000/20000 [==============================] - 213s - loss: 0.2743 - acc: 0.8972 - val_loss: 0.3196 - val_acc: 0.8688\n",
            "Epoch 4/10\n",
            "20000/20000 [==============================] - 211s - loss: 0.2310 - acc: 0.9150 - val_loss: 0.2972 - val_acc: 0.8856\n",
            "Epoch 5/10\n",
            "20000/20000 [==============================] - 211s - loss: 0.2009 - acc: 0.9261 - val_loss: 0.4461 - val_acc: 0.8514\n",
            "Epoch 6/10\n",
            "20000/20000 [==============================] - 210s - loss: 0.1912 - acc: 0.9339 - val_loss: 0.3636 - val_acc: 0.8640\n",
            "Epoch 7/10\n",
            "20000/20000 [==============================] - 209s - loss: 0.1670 - acc: 0.9423 - val_loss: 0.3476 - val_acc: 0.8580\n",
            "Epoch 8/10\n",
            "20000/20000 [==============================] - 210s - loss: 0.1523 - acc: 0.9469 - val_loss: 0.3887 - val_acc: 0.8830\n",
            "Epoch 9/10\n",
            "20000/20000 [==============================] - 209s - loss: 0.1431 - acc: 0.9506 - val_loss: 0.3781 - val_acc: 0.8810\n",
            "Epoch 10/10\n",
            "20000/20000 [==============================] - 209s - loss: 0.1366 - acc: 0.9521 - val_loss: 0.3713 - val_acc: 0.8792\n"
          ],
          "name": "stdout"
        }
      ]
    },
    {
      "metadata": {
        "id": "uCy1C6kKiHrU",
        "colab_type": "text"
      },
      "cell_type": "markdown",
      "source": [
        "It performs slightly better than the regular LSTM we tried in the previous section, going above 88% validation accuracy. It also seems to \n",
        "overfit faster, which is unsurprising since a bidirectional layer has twice more parameters than a chronological LSTM. With some \n",
        "regularization, the bidirectional approach would likely be a strong performer on this task.\n",
        "\n",
        "Now let's try the same approach on the weather prediction task:"
      ]
    },
    {
      "metadata": {
        "id": "YN0eM_wyiHrX",
        "colab_type": "code",
        "outputId": "a07df71e-bd37-42b0-af15-1f573f2345aa",
        "colab": {}
      },
      "cell_type": "code",
      "source": [
        "from keras.models import Sequential\n",
        "from keras import layers\n",
        "from keras.optimizers import RMSprop\n",
        "\n",
        "model = Sequential()\n",
        "model.add(layers.Bidirectional(\n",
        "    layers.GRU(32), input_shape=(None, float_data.shape[-1])))\n",
        "model.add(layers.Dense(1))\n",
        "\n",
        "model.compile(optimizer=RMSprop(), loss='mae')\n",
        "history = model.fit_generator(train_gen,\n",
        "                              steps_per_epoch=500,\n",
        "                              epochs=40,\n",
        "                              validation_data=val_gen,\n",
        "                              validation_steps=val_steps)"
      ],
      "execution_count": 0,
      "outputs": [
        {
          "output_type": "stream",
          "text": [
            "Epoch 1/40\n",
            "500/500 [==============================] - 325s - loss: 0.3029 - val_loss: 0.2660\n",
            "Epoch 2/40\n",
            "500/500 [==============================] - 324s - loss: 0.2751 - val_loss: 0.2660\n",
            "Epoch 3/40\n",
            "500/500 [==============================] - 326s - loss: 0.2668 - val_loss: 0.2628\n",
            "Epoch 4/40\n",
            "500/500 [==============================] - 326s - loss: 0.2594 - val_loss: 0.2615\n",
            "Epoch 5/40\n",
            "500/500 [==============================] - 324s - loss: 0.2532 - val_loss: 0.2684\n",
            "Epoch 6/40\n",
            "500/500 [==============================] - 324s - loss: 0.2442 - val_loss: 0.2674\n",
            "Epoch 7/40\n",
            "500/500 [==============================] - 324s - loss: 0.2405 - val_loss: 0.2700\n",
            "Epoch 8/40\n",
            "500/500 [==============================] - 324s - loss: 0.2343 - val_loss: 0.2782\n",
            "Epoch 9/40\n",
            "500/500 [==============================] - 324s - loss: 0.2293 - val_loss: 0.2778\n",
            "Epoch 10/40\n",
            "500/500 [==============================] - 324s - loss: 0.2233 - val_loss: 0.2813\n",
            "Epoch 11/40\n",
            "500/500 [==============================] - 324s - loss: 0.2167 - val_loss: 0.2978\n",
            "Epoch 12/40\n",
            "500/500 [==============================] - 324s - loss: 0.2116 - val_loss: 0.2984\n",
            "Epoch 13/40\n",
            "500/500 [==============================] - 324s - loss: 0.2061 - val_loss: 0.2920\n",
            "Epoch 14/40\n",
            "500/500 [==============================] - 323s - loss: 0.2008 - val_loss: 0.3016\n",
            "Epoch 15/40\n",
            "500/500 [==============================] - 324s - loss: 0.1952 - val_loss: 0.2985\n",
            "Epoch 16/40\n",
            "500/500 [==============================] - 324s - loss: 0.1915 - val_loss: 0.3029\n",
            "Epoch 17/40\n",
            "500/500 [==============================] - 323s - loss: 0.1862 - val_loss: 0.3127\n",
            "Epoch 18/40\n",
            "500/500 [==============================] - 324s - loss: 0.1821 - val_loss: 0.3079\n",
            "Epoch 19/40\n",
            "500/500 [==============================] - 324s - loss: 0.1772 - val_loss: 0.3116\n",
            "Epoch 20/40\n",
            "500/500 [==============================] - 323s - loss: 0.1735 - val_loss: 0.3151\n",
            "Epoch 21/40\n",
            "500/500 [==============================] - 323s - loss: 0.1705 - val_loss: 0.3208\n",
            "Epoch 22/40\n",
            "500/500 [==============================] - 324s - loss: 0.1664 - val_loss: 0.3345\n",
            "Epoch 23/40\n",
            "500/500 [==============================] - 323s - loss: 0.1631 - val_loss: 0.3162\n",
            "Epoch 24/40\n",
            "500/500 [==============================] - 324s - loss: 0.1604 - val_loss: 0.3141\n",
            "Epoch 25/40\n",
            "500/500 [==============================] - 324s - loss: 0.1572 - val_loss: 0.3173\n",
            "Epoch 26/40\n",
            "500/500 [==============================] - 325s - loss: 0.1559 - val_loss: 0.3156\n",
            "Epoch 27/40\n",
            "500/500 [==============================] - 324s - loss: 0.1530 - val_loss: 0.3227\n",
            "Epoch 28/40\n",
            "500/500 [==============================] - 324s - loss: 0.1521 - val_loss: 0.3288\n",
            "Epoch 29/40\n",
            "500/500 [==============================] - 325s - loss: 0.1496 - val_loss: 0.3264\n",
            "Epoch 30/40\n",
            "500/500 [==============================] - 324s - loss: 0.1481 - val_loss: 0.3266\n",
            "Epoch 31/40\n",
            "500/500 [==============================] - 323s - loss: 0.1456 - val_loss: 0.3241\n",
            "Epoch 32/40\n",
            "500/500 [==============================] - 323s - loss: 0.1436 - val_loss: 0.3293\n",
            "Epoch 33/40\n",
            "500/500 [==============================] - 324s - loss: 0.1426 - val_loss: 0.3301\n",
            "Epoch 34/40\n",
            "500/500 [==============================] - 324s - loss: 0.1409 - val_loss: 0.3298\n",
            "Epoch 35/40\n",
            "500/500 [==============================] - 324s - loss: 0.1399 - val_loss: 0.3372\n",
            "Epoch 36/40\n",
            "500/500 [==============================] - 323s - loss: 0.1387 - val_loss: 0.3304\n",
            "Epoch 37/40\n",
            "500/500 [==============================] - 324s - loss: 0.1388 - val_loss: 0.3324\n",
            "Epoch 38/40\n",
            "500/500 [==============================] - 324s - loss: 0.1362 - val_loss: 0.3317\n",
            "Epoch 39/40\n",
            "500/500 [==============================] - 323s - loss: 0.1342 - val_loss: 0.3319\n",
            "Epoch 40/40\n",
            "500/500 [==============================] - 324s - loss: 0.1350 - val_loss: 0.3289\n"
          ],
          "name": "stdout"
        }
      ]
    },
    {
      "metadata": {
        "id": "SuKPOtBQiHrc",
        "colab_type": "text"
      },
      "cell_type": "markdown",
      "source": [
        "\n",
        "It performs about as well as the regular GRU layer. It's easy to understand why: all of the predictive capacity must be coming from the \n",
        "chronological half of the network, since the anti-chronological half is known to be severely underperforming on this task (again, because \n",
        "the recent past matters much more than the distant past in this case)."
      ]
    },
    {
      "metadata": {
        "id": "-jqWuF-fiHri",
        "colab_type": "text"
      },
      "cell_type": "markdown",
      "source": [
        "\n",
        "## Going even further\n",
        "\n",
        "At this stage, there are still many other things you could try in order to improve performance on our weather forecasting problem:\n",
        "\n",
        "* Adjust the number of units in each recurrent layer in the stacked setup. Our current choices are largely arbitrary and thus likely \n",
        "suboptimal.\n",
        "* Adjust the learning rate used by our `RMSprop` optimizer.\n",
        "* Try using `LSTM` layers instead of `GRU` layers.\n",
        "* Try using a bigger densely-connected regressor on top of the recurrent layers, i.e. a bigger `Dense` layer or even a stack of `Dense` \n",
        "layers.\n",
        "* Don't forget to eventually run the best performing models (in terms of validation MAE) on the test set! Least you start developing \n",
        "architectures that are overfitting to the validation set.   \n",
        "\n",
        "As usual: deep learning is more an art than a science, and while we can provide guidelines as to what is likely to work or not work on a \n",
        "given problem, ultimately every problem is unique and you will have to try and evaluate different strategies empirically. There is \n",
        "currently no theory that will tell you in advance precisely what you should do to optimally solve a problem. You must try and iterate.\n",
        "\n",
        "\n",
        "## Wrapping up\n",
        "\n",
        "Here's what you should take away from this section:\n",
        "\n",
        "* As you first learned in Chapter 4, when approaching a new problem, \n",
        "it is good to first establish common sense baselines for your metric of choice. If you don't have a \n",
        "baseline to beat, you can't tell if you are making any real progress.\n",
        "* Try simple models before expensive ones, to justify the additional expense. Sometimes a simple model will turn out to be your best option.\n",
        "* On data where temporal ordering matters, recurrent networks are a great fit and easily outperform models that first flatten the temporal \n",
        "data.\n",
        "* To use dropout with recurrent networks, one should use a time-constant dropout mask and recurrent dropout mask. This is built into Keras \n",
        "recurrent layers, so all you have to do is use the `dropout` and `recurrent_dropout` arguments of recurrent layers.\n",
        "* Stacked RNNs provide more representational power than a single RNN layer. They are also much more expensive, and thus not always worth it. \n",
        "While they offer clear gains on complex problems (e.g. machine translation), they might not always be relevant to smaller, simpler problems.\n",
        "* Bidirectional RNNs, which look at a sequence both ways, are very useful on natural language processing problems. However, they will not \n",
        "be strong performers on sequence data where the recent past is much more informative than the beginning of the sequence.\n",
        "\n",
        "Note there are two important concepts that we will not cover in detail here: recurrent \"attention\", and sequence masking. Both tend to be \n",
        "especially relevant for natural language processing, and are not particularly applicable to our temperature forecasting problem. We will \n",
        "leave them for future study outside of this book."
      ]
    }
  ]
}